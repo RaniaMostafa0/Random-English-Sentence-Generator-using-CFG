{
 "cells": [
  {
   "cell_type": "code",
   "execution_count": null,
   "id": "d7f466bc-46e1-4870-97f3-6af8d80add46",
   "metadata": {},
   "outputs": [],
   "source": [
    "import random\n",
    "from collections import defaultdict\n",
    "\n",
    "# Define grammar productions\n",
    "productions = defaultdict(list)\n",
    "\n",
    "number_of_non_terminals = int(input(\"Please enter number of non-terminals: \"))\n",
    "\n",
    "for i in range(number_of_non_terminals):\n",
    "    non_terminal = input(\"Please enter the non-terminal number %s: \" % (i+1))\n",
    "    terminal = input(\"Please enter the terminals for non-terminal %s: \" % (i+1))\n",
    "    terminal = terminal.split()\n",
    "    productions[non_terminal].extend(terminal)\n",
    "    print(productions)\n",
    "\n",
    "num_sentences = int(input(\"Please enter the number of random sentences to generate: \"))\n",
    "\n",
    "for _ in range(num_sentences):\n",
    "    random_choice = random.choice(productions['S'])\n",
    "    print(1, random_choice)\n",
    "    sentence = ''\n",
    "    counter = 0\n",
    "    while counter < len(random_choice):\n",
    "        for letter in random_choice:\n",
    "            if letter.isupper():\n",
    "                random_choice = random.choice(productions[letter])\n",
    "                counter += 1\n",
    "                print(2, random_choice)\n",
    "                if random_choice.isupper():\n",
    "                    random_choice = random.choice(productions[random_choice])\n",
    "                    counter += 1\n",
    "                    print(3, random_choice)\n",
    "                elif random_choice.islower():\n",
    "                    sentence += random_choice + \" \"\n",
    "                    counter += 1\n",
    "                    print(4, sentence)\n",
    "                else:\n",
    "                    counter = 0\n",
    "            else:\n",
    "                sentence += letter + \" \"\n",
    "                counter += 1\n",
    "                print(5, sentence)\n",
    "    print(sentence)\n",
    "    print('-' * 30)"
   ]
  }
 ],
 "metadata": {
  "kernelspec": {
   "display_name": "Python 3 (ipykernel)",
   "language": "python",
   "name": "python3"
  },
  "language_info": {
   "codemirror_mode": {
    "name": "ipython",
    "version": 3
   },
   "file_extension": ".py",
   "mimetype": "text/x-python",
   "name": "python",
   "nbconvert_exporter": "python",
   "pygments_lexer": "ipython3",
   "version": "3.9.19"
  }
 },
 "nbformat": 4,
 "nbformat_minor": 5
}
